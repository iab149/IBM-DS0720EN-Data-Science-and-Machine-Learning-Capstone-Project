{
 "cells": [
  {
   "cell_type": "markdown",
   "metadata": {},
   "source": [
    "<p style=\"text-align:center\">\n",
    "    <a href=\"https://skills.network\" target=\"_blank\">\n",
    "    <img src=\"https://cf-courses-data.s3.us.cloud-object-storage.appdomain.cloud/assets/logos/SN_web_lightmode.png\" width=\"200\" alt=\"Skills Network Logo\">\n",
    "    </a>\n",
    "</p>\n",
    "\n",
    "<h1 align=center><font size = 5>Hands-on Lab: Complete the EDA with SQL</font></h1>\n",
    "\n",
    "Estimated time needed: **60** minutes.\n",
    "\n",
    "## Introduction\n",
    "Using this Python notebook you will:\n",
    "\n",
    "1.  Understand the Spacex DataSet\n",
    "2.  Load the dataset  into the corresponding table in a Db2 database\n",
    "3.  Execute SQL queries to answer assignment questions \n"
   ]
  },
  {
   "cell_type": "markdown",
   "metadata": {},
   "source": [
    "## Overview of the DataSet\n",
    "\n",
    "SpaceX has gained worldwide attention for a series of historic milestones. \n",
    "\n",
    "It is the only private company ever to return a spacecraft from low-earth orbit, which it first accomplished in December 2010.\n",
    "SpaceX advertises Falcon 9 rocket launches on its website with a cost of 62 million dollars wheras other providers cost upward of 165 million dollars each, much of the savings is because Space X can reuse the first stage. \n",
    "\n",
    "\n",
    "Therefore if we can determine if the first stage will land, we can determine the cost of a launch. \n",
    "\n",
    "This information can be used if an alternate company wants to bid against SpaceX for a rocket launch.\n",
    "\n",
    "This dataset includes a record for each payload carried during a SpaceX mission into outer space.\n"
   ]
  },
  {
   "cell_type": "markdown",
   "metadata": {
    "jupyter": {
     "source_hidden": true
    }
   },
   "source": [
    "### Download the datasets\n",
    "\n",
    "This assignment requires you to load the spacex dataset.\n",
    "\n",
    "In many cases the dataset to be analyzed is available as a .CSV (comma separated values) file, perhaps on the internet. Click on the link below to download and save the dataset (.CSV file):\n",
    "\n",
    " <a href=\"https://cf-courses-data.s3.us.cloud-object-storage.appdomain.cloud/IBM-DS0321EN-SkillsNetwork/labs/module_2/data/Spacex.csv\" target=\"_blank\">Spacex DataSet</a>\n",
    "\n"
   ]
  },
  {
   "cell_type": "code",
   "execution_count": 1,
   "metadata": {
    "scrolled": true
   },
   "outputs": [
    {
     "name": "stdout",
     "output_type": "stream",
     "text": [
      "Collecting sqlalchemy==1.4\n",
      "  Downloading SQLAlchemy-1.4.0.tar.gz (7.4 MB)\n",
      "\u001b[2K     \u001b[90m━━━━━━━━━━━━━━━━━━━━━━━━━━━━━━━━━━━━━━━━\u001b[0m \u001b[32m7.4/7.4 MB\u001b[0m \u001b[31m2.4 MB/s\u001b[0m eta \u001b[36m0:00:00\u001b[0m0:00:01\u001b[0m\n",
      "  Preparing metadata (setup.py) ... \u001b[?2done\n",
      "\u001b[?25hRequirement already satisfied: greenlet!=0.4.17 in /opt/conda/lib/python3.12/site-packages (from sqlalchemy==1.4) (3.1.1)\n",
      "Building wheels for collected packages: sqlalchemy\n",
      "  Building wheel for sqlalchemy (setup.pdone\n",
      "\u001b[?25h  Created wheel for sqlalchemy: filename=SQLAlchemy-1.4.0-cp312-cp312-linux_x86_64.whl size=1447176 sha256=c5a984bf6ab5bc9b7c771c9768b1a4409c6bff4a1be7da62f61a4eca689ded70\n",
      "  Stored in directory: /home/jupyterlab/.cache/pip/wheels/a6/b1/f8/f3401c8d8cde72a608b1399e8e0277aa542a70efd4defe44a5\n",
      "Successfully built sqlalchemy\n",
      "Installing collected packages: sqlalchemy\n",
      "  Attempting uninstall: sqlalchemy\n",
      "    Found existing installation: SQLAlchemy 2.0.37\n",
      "    Uninstalling SQLAlchemy-2.0.37:\n",
      "      Successfully uninstalled SQLAlchemy-2.0.37\n",
      "\u001b[31mERROR: pip's dependency resolver does not currently take into account all the packages that are installed. This behaviour is the source of the following dependency conflicts.\n",
      "jupyterhub 5.2.1 requires SQLAlchemy>=1.4.1, but you have sqlalchemy 1.4.0 which is incompatible.\u001b[0m\u001b[31m\n",
      "\u001b[0mSuccessfully installed sqlalchemy-1.4.0\n",
      "Collecting ipython-sql\n",
      "  Downloading ipython_sql-0.5.0-py3-none-any.whl.metadata (17 kB)\n",
      "Collecting prettytable (from ipython-sql)\n",
      "  Downloading prettytable-3.16.0-py3-none-any.whl.metadata (33 kB)\n",
      "Requirement already satisfied: ipython in /opt/conda/lib/python3.12/site-packages (from ipython-sql) (8.31.0)\n",
      "Collecting sqlalchemy>=2.0 (from ipython-sql)\n",
      "  Downloading sqlalchemy-2.0.43-cp312-cp312-manylinux_2_17_x86_64.manylinux2014_x86_64.whl.metadata (9.6 kB)\n",
      "Collecting sqlparse (from ipython-sql)\n",
      "  Downloading sqlparse-0.5.3-py3-none-any.whl.metadata (3.9 kB)\n",
      "Requirement already satisfied: six in /opt/conda/lib/python3.12/site-packages (from ipython-sql) (1.17.0)\n",
      "Requirement already satisfied: ipython-genutils in /opt/conda/lib/python3.12/site-packages (from ipython-sql) (0.2.0)\n",
      "Requirement already satisfied: greenlet>=1 in /opt/conda/lib/python3.12/site-packages (from sqlalchemy>=2.0->ipython-sql) (3.1.1)\n",
      "Requirement already satisfied: typing-extensions>=4.6.0 in /opt/conda/lib/python3.12/site-packages (from sqlalchemy>=2.0->ipython-sql) (4.12.2)\n",
      "Requirement already satisfied: decorator in /opt/conda/lib/python3.12/site-packages (from ipython->ipython-sql) (5.1.1)\n",
      "Requirement already satisfied: jedi>=0.16 in /opt/conda/lib/python3.12/site-packages (from ipython->ipython-sql) (0.19.2)\n",
      "Requirement already satisfied: matplotlib-inline in /opt/conda/lib/python3.12/site-packages (from ipython->ipython-sql) (0.1.7)\n",
      "Requirement already satisfied: pexpect>4.3 in /opt/conda/lib/python3.12/site-packages (from ipython->ipython-sql) (4.9.0)\n",
      "Requirement already satisfied: prompt_toolkit<3.1.0,>=3.0.41 in /opt/conda/lib/python3.12/site-packages (from ipython->ipython-sql) (3.0.50)\n",
      "Requirement already satisfied: pygments>=2.4.0 in /opt/conda/lib/python3.12/site-packages (from ipython->ipython-sql) (2.19.1)\n",
      "Requirement already satisfied: stack_data in /opt/conda/lib/python3.12/site-packages (from ipython->ipython-sql) (0.6.3)\n",
      "Requirement already satisfied: traitlets>=5.13.0 in /opt/conda/lib/python3.12/site-packages (from ipython->ipython-sql) (5.14.3)\n",
      "Requirement already satisfied: wcwidth in /opt/conda/lib/python3.12/site-packages (from prettytable->ipython-sql) (0.2.13)\n",
      "Requirement already satisfied: parso<0.9.0,>=0.8.4 in /opt/conda/lib/python3.12/site-packages (from jedi>=0.16->ipython->ipython-sql) (0.8.4)\n",
      "Requirement already satisfied: ptyprocess>=0.5 in /opt/conda/lib/python3.12/site-packages (from pexpect>4.3->ipython->ipython-sql) (0.7.0)\n",
      "Requirement already satisfied: executing>=1.2.0 in /opt/conda/lib/python3.12/site-packages (from stack_data->ipython->ipython-sql) (2.1.0)\n",
      "Requirement already satisfied: asttokens>=2.1.0 in /opt/conda/lib/python3.12/site-packages (from stack_data->ipython->ipython-sql) (3.0.0)\n",
      "Requirement already satisfied: pure_eval in /opt/conda/lib/python3.12/site-packages (from stack_data->ipython->ipython-sql) (0.2.3)\n",
      "Downloading ipython_sql-0.5.0-py3-none-any.whl (20 kB)\n",
      "Downloading sqlalchemy-2.0.43-cp312-cp312-manylinux_2_17_x86_64.manylinux2014_x86_64.whl (3.3 MB)\n",
      "\u001b[2K   \u001b[90m━━━━━━━━━━━━━━━━━━━━━━━━━━━━━━━━━━━━━━━━\u001b[0m \u001b[32m3.3/3.3 MB\u001b[0m \u001b[31m97.4 MB/s\u001b[0m eta \u001b[36m0:00:00\u001b[0m\n",
      "\u001b[?25hDownloading prettytable-3.16.0-py3-none-any.whl (33 kB)\n",
      "Downloading sqlparse-0.5.3-py3-none-any.whl (44 kB)\n",
      "Installing collected packages: sqlparse, sqlalchemy, prettytable, ipython-sql\n",
      "  Attempting uninstall: sqlalchemy\n",
      "    Found existing installation: SQLAlchemy 1.4.0\n",
      "    Uninstalling SQLAlchemy-1.4.0:\n",
      "      Successfully uninstalled SQLAlchemy-1.4.0\n",
      "Successfully installed ipython-sql-0.5.0 prettytable-3.16.0 sqlalchemy-2.0.43 sqlparse-0.5.3\n",
      "Collecting pandas\n",
      "  Downloading pandas-2.3.2-cp312-cp312-manylinux_2_17_x86_64.manylinux2014_x86_64.whl.metadata (91 kB)\n",
      "Collecting numpy>=1.26.0 (from pandas)\n",
      "  Downloading numpy-2.3.3-cp312-cp312-manylinux_2_27_x86_64.manylinux_2_28_x86_64.whl.metadata (62 kB)\n",
      "Requirement already satisfied: python-dateutil>=2.8.2 in /opt/conda/lib/python3.12/site-packages (from pandas) (2.9.0.post0)\n",
      "Requirement already satisfied: pytz>=2020.1 in /opt/conda/lib/python3.12/site-packages (from pandas) (2024.2)\n",
      "Collecting tzdata>=2022.7 (from pandas)\n",
      "  Downloading tzdata-2025.2-py2.py3-none-any.whl.metadata (1.4 kB)\n",
      "Requirement already satisfied: six>=1.5 in /opt/conda/lib/python3.12/site-packages (from python-dateutil>=2.8.2->pandas) (1.17.0)\n",
      "Downloading pandas-2.3.2-cp312-cp312-manylinux_2_17_x86_64.manylinux2014_x86_64.whl (12.0 MB)\n",
      "\u001b[2K   \u001b[90m━━━━━━━━━━━━━━━━━━━━━━━━━━━━━━━━━━━━━━━━\u001b[0m \u001b[32m12.0/12.0 MB\u001b[0m \u001b[31m145.6 MB/s\u001b[0m eta \u001b[36m0:00:00\u001b[0m\n",
      "\u001b[?25hDownloading numpy-2.3.3-cp312-cp312-manylinux_2_27_x86_64.manylinux_2_28_x86_64.whl (16.6 MB)\n",
      "\u001b[2K   \u001b[90m━━━━━━━━━━━━━━━━━━━━━━━━━━━━━━━━━━━━━━━━\u001b[0m \u001b[32m16.6/16.6 MB\u001b[0m \u001b[31m65.7 MB/s\u001b[0m eta \u001b[36m0:00:00\u001b[0m:00:01\u001b[0m\n",
      "\u001b[?25hDownloading tzdata-2025.2-py2.py3-none-any.whl (347 kB)\n",
      "Installing collected packages: tzdata, numpy, pandas\n",
      "Successfully installed numpy-2.3.3 pandas-2.3.2 tzdata-2025.2\n"
     ]
    }
   ],
   "source": [
    "!pip install sqlalchemy==1.4\n",
    "!pip install ipython-sql\n",
    "!pip install pandas"
   ]
  },
  {
   "cell_type": "markdown",
   "metadata": {},
   "source": [
    "### Connect to the database\n",
    "\n",
    "Let us first load the SQL extension and establish a connection with the database\n"
   ]
  },
  {
   "cell_type": "code",
   "execution_count": 42,
   "metadata": {},
   "outputs": [
    {
     "name": "stdout",
     "output_type": "stream",
     "text": [
      "The sql extension is already loaded. To reload it, use:\n",
      "  %reload_ext sql\n"
     ]
    }
   ],
   "source": [
    "%load_ext sql"
   ]
  },
  {
   "cell_type": "code",
   "execution_count": 43,
   "metadata": {},
   "outputs": [],
   "source": [
    "import csv, sqlite3\n",
    "\n",
    "con = sqlite3.connect(\"my_data1.db\")\n",
    "cur = con.cursor()"
   ]
  },
  {
   "cell_type": "code",
   "execution_count": 44,
   "metadata": {},
   "outputs": [],
   "source": [
    "%sql sqlite:///my_data1.db"
   ]
  },
  {
   "cell_type": "code",
   "execution_count": 45,
   "metadata": {},
   "outputs": [
    {
     "data": {
      "text/plain": [
       "Index(['Date', 'Time (UTC)', 'Booster_Version', 'Launch_Site', 'Payload',\n",
       "       'PAYLOAD_MASS__KG_', 'Orbit', 'Customer', 'Mission_Outcome',\n",
       "       'Landing_Outcome'],\n",
       "      dtype='object')"
      ]
     },
     "execution_count": 45,
     "metadata": {},
     "output_type": "execute_result"
    }
   ],
   "source": [
    "import pandas as pd\n",
    "df = pd.read_csv(\"https://cf-courses-data.s3.us.cloud-object-storage.appdomain.cloud/IBM-DS0321EN-SkillsNetwork/labs/module_2/data/Spacex.csv\")\n",
    "df.to_sql(\"SPACEXTBL\", con, if_exists='replace', index=False,method=\"multi\")\n",
    "df.columns "
   ]
  },
  {
   "cell_type": "code",
   "execution_count": 46,
   "metadata": {},
   "outputs": [
    {
     "name": "stdout",
     "output_type": "stream",
     "text": [
      "('2010-06-04', '18:45:00', 'F9 v1.0  B0003', 'CCAFS LC-40', 'Dragon Spacecraft Qualification Unit', 0, 'LEO', 'SpaceX', 'Success', 'Failure (parachute)')\n",
      "\n",
      "('2010-12-08', '15:43:00', 'F9 v1.0  B0004', 'CCAFS LC-40', 'Dragon demo flight C1, two CubeSats, barrel of Brouere cheese', 0, 'LEO (ISS)', 'NASA (COTS) NRO', 'Success', 'Failure (parachute)')\n",
      "\n",
      "('2012-05-22', '7:44:00', 'F9 v1.0  B0005', 'CCAFS LC-40', 'Dragon demo flight C2', 525, 'LEO (ISS)', 'NASA (COTS)', 'Success', 'No attempt')\n",
      "\n",
      "('2012-10-08', '0:35:00', 'F9 v1.0  B0006', 'CCAFS LC-40', 'SpaceX CRS-1', 500, 'LEO (ISS)', 'NASA (CRS)', 'Success', 'No attempt')\n",
      "\n",
      "('2013-03-01', '15:10:00', 'F9 v1.0  B0007', 'CCAFS LC-40', 'SpaceX CRS-2', 677, 'LEO (ISS)', 'NASA (CRS)', 'Success', 'No attempt')\n",
      "\n"
     ]
    }
   ],
   "source": [
    "#the next two lines are to configure the sql magic extension\n",
    "%config SqlMagic.style = 'plain'\n",
    "%config SqlMagic.autopandas = True\n",
    "\n",
    "#Let us take a look at the overall table\n",
    "#Create a query string\n",
    "query = \"SELECT * FROM SPACEXTBL LIMIT 5;\"\n",
    "# Now execute the SQL query using the cursor object (cur) from your SQLite connection.\n",
    "#This sends the query to the database engine but doesn’t return results yet.\n",
    "cur.execute(query)\n",
    "#Fetch all rows returned by the query and stores them in the list items.\n",
    "#Each row is returned as a tuple (e.g., ('Falcon 9', 'CCAFS LC-40', 2280, ...)).\n",
    "items = cur.fetchall()\n",
    "#Loop through the fetched results and print in new lines\n",
    "for i in items:\n",
    "    print(f\"{i}\\n\")\n"
   ]
  },
  {
   "cell_type": "markdown",
   "metadata": {},
   "source": [
    "**Note:This below code is added to remove blank rows from table**\n"
   ]
  },
  {
   "cell_type": "code",
   "execution_count": 47,
   "metadata": {},
   "outputs": [
    {
     "name": "stdout",
     "output_type": "stream",
     "text": [
      " * sqlite:///my_data1.db\n",
      "(sqlite3.OperationalError) table SPACEXTABLE already exists\n",
      "[SQL: create table SPACEXTABLE as select * from SPACEXTBL where Date is not null]\n",
      "(Background on this error at: https://sqlalche.me/e/20/e3q8)\n"
     ]
    }
   ],
   "source": [
    "%sql create table SPACEXTABLE as select * from SPACEXTBL where Date is not null"
   ]
  },
  {
   "cell_type": "markdown",
   "metadata": {},
   "source": [
    "## Tasks\n",
    "\n",
    "Now write and execute SQL queries to solve the assignment tasks.\n",
    "\n",
    "**Note: If the column names are in mixed case enclose it in double quotes\n",
    "   For Example \"Landing_Outcome\"** . \n",
    "\n",
    "   \n",
    "\n",
    "### Task 1\n",
    "\n",
    "\n",
    "\n",
    "\n",
    "##### Display the names of the unique launch sites  in the space mission\n"
   ]
  },
  {
   "cell_type": "code",
   "execution_count": 48,
   "metadata": {},
   "outputs": [
    {
     "name": "stdout",
     "output_type": "stream",
     "text": [
      "('CCAFS LC-40',)\n",
      "('VAFB SLC-4E',)\n",
      "('KSC LC-39A',)\n",
      "('CCAFS SLC-40',)\n"
     ]
    }
   ],
   "source": [
    "# the equivalent sql command is given below. I am using python since %sql did not work\n",
    "# %sql SELECT DISTINCT \"LaunchSite\" FROM SPACEXTABLE;\n",
    "\n",
    "\n",
    "query = \"\"\"\n",
    "    SELECT DISTINCT launch_site\n",
    "    FROM SPACEXTABLE\n",
    "    \"\"\"\n",
    "\n",
    "cur.execute(query)\n",
    "items = cur.fetchall()\n",
    "\n",
    "for i in items:\n",
    "    print(i)"
   ]
  },
  {
   "cell_type": "code",
   "execution_count": 51,
   "metadata": {},
   "outputs": [
    {
     "name": "stdout",
     "output_type": "stream",
     "text": [
      "(0, 'Date', 'TEXT', 0, None, 0)\n",
      "(1, 'Time (UTC)', 'TEXT', 0, None, 0)\n",
      "(2, 'Booster_Version', 'TEXT', 0, None, 0)\n",
      "(3, 'Launch_Site', 'TEXT', 0, None, 0)\n",
      "(4, 'Payload', 'TEXT', 0, None, 0)\n",
      "(5, 'PAYLOAD_MASS__KG_', 'INT', 0, None, 0)\n",
      "(6, 'Orbit', 'TEXT', 0, None, 0)\n",
      "(7, 'Customer', 'TEXT', 0, None, 0)\n",
      "(8, 'Mission_Outcome', 'TEXT', 0, None, 0)\n",
      "(9, 'Landing_Outcome', 'TEXT', 0, None, 0)\n"
     ]
    }
   ],
   "source": [
    "query = \"PRAGMA table_info(SPACEXTABLE);\"\n",
    "cur.execute(query)\n",
    "columns = cur.fetchall()\n",
    "for col in columns:\n",
    "    print(col)\n",
    "\n",
    "\n",
    "   "
   ]
  },
  {
   "cell_type": "markdown",
   "metadata": {},
   "source": [
    "\n",
    "### Task 2\n",
    "\n",
    "\n",
    "#####  Display 5 records where launch sites begin with the string 'KSC' \n"
   ]
  },
  {
   "cell_type": "code",
   "execution_count": 97,
   "metadata": {},
   "outputs": [
    {
     "name": "stdout",
     "output_type": "stream",
     "text": [
      "('2017-02-19', '14:39:00', 'F9 FT B1031.1', 'KSC LC-39A', 'SpaceX CRS-10', 2490, 'LEO (ISS)', 'NASA (CRS)', 'Success', 'Success (ground pad)')\n",
      "\n",
      "--------------------------------------------------\n",
      "('2017-03-16', '6:00:00', 'F9 FT B1030', 'KSC LC-39A', 'EchoStar 23', 5600, 'GTO', 'EchoStar', 'Success', 'No attempt')\n",
      "\n",
      "--------------------------------------------------\n",
      "('2017-03-30', '22:27:00', 'F9 FT  B1021.2', 'KSC LC-39A', 'SES-10', 5300, 'GTO', 'SES', 'Success', 'Success (drone ship)')\n",
      "\n",
      "--------------------------------------------------\n",
      "('2017-05-01', '11:15:00', 'F9 FT B1032.1', 'KSC LC-39A', 'NROL-76', 5300, 'LEO', 'NRO', 'Success', 'Success (ground pad)')\n",
      "\n",
      "--------------------------------------------------\n",
      "('2017-05-15', '23:21:00', 'F9 FT B1034', 'KSC LC-39A', 'Inmarsat-5 F4', 6070, 'GTO', 'Inmarsat', 'Success', 'No attempt')\n",
      "\n",
      "--------------------------------------------------\n",
      "How many distinct launch sites exist?\n",
      "Launch Site: ('CCAFS LC-40',)\n",
      "Launch Site: ('VAFB SLC-4E',)\n",
      "Launch Site: ('KSC LC-39A',)\n",
      "Launch Site: ('CCAFS SLC-40',)\n",
      "--------------------------------------------------\n"
     ]
    }
   ],
   "source": [
    "query = \"\"\"\n",
    "    SELECT *\n",
    "    FROM SPACEXTABLE\n",
    "    WHERE \"Launch_Site\" LIKE 'KSC%'\n",
    "    LIMIT 5\n",
    "    \"\"\"\n",
    "\n",
    "cur.execute(query)\n",
    "items = cur.fetchall()\n",
    "\n",
    "for i in items:\n",
    "    print(f\"{i}\\n\")\n",
    "\n",
    "    print(\"-\"*50)\n",
    "\n",
    "#How many distinct launch sites exist?\n",
    "\n",
    "\n",
    "\n",
    "print(\"How many distinct launch sites exist?\")\n",
    "query = \"\"\"\n",
    "SELECT  distinct \"Launch_Site\"\n",
    "FROM SPACEXTABLE\n",
    "\"\"\"\n",
    "\n",
    "\n",
    "cur.execute(query)\n",
    "ls = cur.fetchall()\n",
    "# Print each distinct customer\n",
    "for l in ls:\n",
    "    print(f\"Launch Site: {l}\")\n",
    "print(\"-\"*50)"
   ]
  },
  {
   "cell_type": "markdown",
   "metadata": {},
   "source": [
    "### Task 3\n",
    "\n",
    "\n",
    "\n",
    "\n",
    "##### Display the total payload mass carried by boosters launched by NASA (CRS)\n"
   ]
  },
  {
   "cell_type": "code",
   "execution_count": 77,
   "metadata": {},
   "outputs": [
    {
     "name": "stdout",
     "output_type": "stream",
     "text": [
      "Let us review the column names again\n",
      "(0, 'Date', 'TEXT', 0, None, 0)\n",
      "(1, 'Time (UTC)', 'TEXT', 0, None, 0)\n",
      "(2, 'Booster_Version', 'TEXT', 0, None, 0)\n",
      "(3, 'Launch_Site', 'TEXT', 0, None, 0)\n",
      "(4, 'Payload', 'TEXT', 0, None, 0)\n",
      "(5, 'PAYLOAD_MASS__KG_', 'INT', 0, None, 0)\n",
      "(6, 'Orbit', 'TEXT', 0, None, 0)\n",
      "(7, 'Customer', 'TEXT', 0, None, 0)\n",
      "(8, 'Mission_Outcome', 'TEXT', 0, None, 0)\n",
      "(9, 'Landing_Outcome', 'TEXT', 0, None, 0)\n",
      "--------------------------------------------------\n",
      "How many distinct customers exist?\n",
      "('SpaceX',)\n",
      "('NASA (COTS) NRO',)\n",
      "('NASA (COTS)',)\n",
      "('NASA (CRS)',)\n",
      "('MDA',)\n",
      "('SES',)\n",
      "('Thaicom',)\n",
      "('Orbcomm',)\n",
      "('AsiaSat',)\n",
      "('U.S. Air Force NASA NOAA',)\n",
      "('ABS Eutelsat',)\n",
      "('Turkmenistan National Space Agency',)\n",
      "('NASA (LSP) NOAA CNES',)\n",
      "('SKY Perfect JSAT Group',)\n",
      "('Iridium Communications',)\n",
      "('EchoStar',)\n",
      "('NRO',)\n",
      "('Inmarsat',)\n",
      "('Bulsatcom',)\n",
      "('Intelsat',)\n",
      "('NSPO',)\n",
      "('U.S. Air Force',)\n",
      "('SES EchoStar',)\n",
      "('KT Corporation',)\n",
      "('Northrop Grumman',)\n",
      "('Hisdesat exactEarth SpaceX',)\n",
      "('Hispasat  NovaWurks',)\n",
      "('NASA (LSP)',)\n",
      "('Thales-Alenia/BTRC',)\n",
      "('Iridium Communications GFZ ‚ NASA',)\n",
      "('Telesat',)\n",
      "('Telkom Indonesia',)\n",
      "('CONAE',)\n",
      "('Es hailSat',)\n",
      "('Spaceflight Industries',)\n",
      "('USAF',)\n",
      "('PSN, SpaceIL / IAI',)\n",
      "('NASA (CCD) ',)\n",
      "('Canadian Space Agency (CSA)',)\n",
      "('Spacecom',)\n",
      "('NASA (CRS), Kacific 1',)\n",
      "('Sky Perfect JSAT, Kacific 1',)\n",
      "('NASA (CTS)',)\n",
      "('NASA (CCDev)',)\n",
      "('SpaceX, Planet Labs',)\n",
      "('U.S. Space Force',)\n",
      "('Republic of Korea Army, Spaceflight Industries (BlackSky)',)\n",
      "('SpaceX, Spaceflight Industries (BlackSky), Planet Labs',)\n",
      "('SpaceX, Planet Labs, PlanetIQ',)\n",
      "('CONAE, PlanetIQ, SpaceX',)\n",
      "('USSF',)\n",
      "('NASA (CCP)',)\n",
      "('NASA / NOAA / ESA / EUMETSAT',)\n",
      "--------------------------------------------------\n",
      "Now let us focus on the NASA (CRS) lines only and sum the payloads\n",
      "Total Payload Mass for NASA CRS missions: 48213 kg\n"
     ]
    }
   ],
   "source": [
    "# Let us review the column names again\n",
    "print(\"Let us review the column names again\")\n",
    "query = \"PRAGMA table_info(SPACEXTABLE);\"\n",
    "cur.execute(query)\n",
    "for col in cur.fetchall():\n",
    "    print(col)\n",
    "\n",
    "print(\"-\"*50)\n",
    "\n",
    "#How many distinct customers exist?\n",
    "\n",
    "print(\"How many distinct customers exist?\")\n",
    "query = \"\"\"\n",
    "SELECT DISTINCT \"Customer\"\n",
    "FROM SPACEXTABLE\n",
    "\"\"\"\n",
    "cur.execute(query)\n",
    "customers = cur.fetchall()\n",
    "# Print each distinct customer\n",
    "for c in customers:\n",
    "    print(c)\n",
    "print(\"-\"*50)\n",
    "\n",
    "# Now let us focus on the NASA (CRS) lines only and sum the payloads\n",
    "print(\"Now let us focus on the NASA (CRS) lines only and sum the payloads\")\n",
    "query = \"\"\"\n",
    "SELECT SUM(\"PAYLOAD_MASS__KG_\") AS TotalPayloadMass\n",
    "FROM SPACEXTABLE\n",
    "WHERE \"Customer\" LIKE '%NASA (CRS)%'\n",
    "\"\"\"\n",
    "cur.execute(query)\n",
    "result = cur.fetchone()\n",
    "print(f\"Total Payload Mass for NASA CRS missions: {result[0]} kg\")\n",
    "\n",
    "\n",
    "\n"
   ]
  },
  {
   "cell_type": "markdown",
   "metadata": {},
   "source": [
    "### Task 4\n",
    "\n",
    "\n",
    "\n",
    "\n",
    "##### Display average payload mass carried by booster version F9 v1.1\n"
   ]
  },
  {
   "cell_type": "code",
   "execution_count": 79,
   "metadata": {},
   "outputs": [
    {
     "name": "stdout",
     "output_type": "stream",
     "text": [
      "Average Payload Mass for F9 v1.1: 2928.4 kg\n"
     ]
    }
   ],
   "source": [
    "query = \"\"\"\n",
    "SELECT AVG(\"PAYLOAD_MASS__KG_\") AS AveragePayloadMass\n",
    "FROM SPACEXTABLE\n",
    "WHERE \"Booster_Version\" = 'F9 v1.1'\n",
    "\"\"\"\n",
    "cur.execute(query)\n",
    "result = cur.fetchone()\n",
    "print(f\"Average Payload Mass for F9 v1.1: {result[0]} kg\")\n"
   ]
  },
  {
   "cell_type": "markdown",
   "metadata": {},
   "source": [
    "### Task 5\n",
    "\n",
    "##### List the date where the succesful landing outcome in drone ship was acheived.\n",
    "\n",
    "\n",
    "_Hint:Use min function_ \n"
   ]
  },
  {
   "cell_type": "code",
   "execution_count": 82,
   "metadata": {},
   "outputs": [
    {
     "name": "stdout",
     "output_type": "stream",
     "text": [
      "2016-04-08\n",
      "2016-05-06\n",
      "2016-05-27\n",
      "2016-08-14\n",
      "2017-01-14\n",
      "2017-03-30\n",
      "2017-06-23\n",
      "2017-06-25\n",
      "2017-08-24\n",
      "2017-10-09\n",
      "2017-10-11\n",
      "2017-10-30\n",
      "2018-04-18\n",
      "2018-05-11\n"
     ]
    }
   ],
   "source": [
    "query = \"\"\"\n",
    "SELECT \"Date\"\n",
    "FROM SPACEXTABLE\n",
    "WHERE \"Landing_Outcome\" LIKE  '%Success (drone ship)%'\n",
    "\"\"\"\n",
    "cur.execute(query)\n",
    "dates = cur.fetchall()\n",
    "\n",
    "# Print each matching date\n",
    "for d in dates:\n",
    "    print(d[0])\n"
   ]
  },
  {
   "cell_type": "markdown",
   "metadata": {},
   "source": [
    "### Task 6\n",
    "\n",
    "##### List the names of the boosters which have success in ground pad  and have payload mass greater than 4000 but less than 6000\n"
   ]
  },
  {
   "cell_type": "code",
   "execution_count": 83,
   "metadata": {},
   "outputs": [
    {
     "name": "stdout",
     "output_type": "stream",
     "text": [
      "F9 FT B1032.1\n",
      "F9 B4 B1040.1\n",
      "F9 B4 B1043.1\n"
     ]
    }
   ],
   "source": [
    "query = \"\"\"\n",
    "SELECT DISTINCT \"Booster_Version\"\n",
    "FROM SPACEXTABLE\n",
    "WHERE \"Landing_Outcome\" LIKE '%Success (ground pad)%'\n",
    "  AND \"PAYLOAD_MASS__KG_\" > 4000\n",
    "  AND \"PAYLOAD_MASS__KG_\" < 6000\n",
    "\"\"\"\n",
    "cur.execute(query)\n",
    "boosters = cur.fetchall()\n",
    "\n",
    "# Print each matching booster version\n",
    "for b in boosters:\n",
    "    print(b[0])\n"
   ]
  },
  {
   "cell_type": "markdown",
   "metadata": {},
   "source": [
    "### Task 7\n",
    "\n",
    "\n",
    "\n",
    "\n",
    "##### List the total number of successful and failure mission outcomes\n"
   ]
  },
  {
   "cell_type": "code",
   "execution_count": 84,
   "metadata": {},
   "outputs": [
    {
     "name": "stdout",
     "output_type": "stream",
     "text": [
      "Failure (in flight): 1\n",
      "Success: 98\n",
      "Success : 1\n",
      "Success (payload status unclear): 1\n"
     ]
    }
   ],
   "source": [
    "query = \"\"\"\n",
    "SELECT \"Mission_Outcome\", COUNT(*) AS OutcomeCount\n",
    "FROM SPACEXTABLE\n",
    "GROUP BY \"Mission_Outcome\"\n",
    "\"\"\"\n",
    "cur.execute(query)\n",
    "outcomes = cur.fetchall()\n",
    "\n",
    "# Print each outcome and its count\n",
    "for outcome in outcomes:\n",
    "    print(f\"{outcome[0]}: {outcome[1]}\")\n"
   ]
  },
  {
   "cell_type": "markdown",
   "metadata": {},
   "source": [
    "### Task 8\n",
    "\n",
    "\n",
    "\n",
    "##### List all the booster_versions that have carried the maximum payload mass. Use a subquery.\n"
   ]
  },
  {
   "cell_type": "code",
   "execution_count": 86,
   "metadata": {},
   "outputs": [
    {
     "name": "stdout",
     "output_type": "stream",
     "text": [
      "Booster Version: F9 B5 B1048.4, Payload Mass: 15600 kg\n",
      "Booster Version: F9 B5 B1049.4, Payload Mass: 15600 kg\n",
      "Booster Version: F9 B5 B1051.3, Payload Mass: 15600 kg\n",
      "Booster Version: F9 B5 B1056.4, Payload Mass: 15600 kg\n",
      "Booster Version: F9 B5 B1048.5, Payload Mass: 15600 kg\n",
      "Booster Version: F9 B5 B1051.4, Payload Mass: 15600 kg\n",
      "Booster Version: F9 B5 B1049.5, Payload Mass: 15600 kg\n",
      "Booster Version: F9 B5 B1060.2 , Payload Mass: 15600 kg\n",
      "Booster Version: F9 B5 B1058.3 , Payload Mass: 15600 kg\n",
      "Booster Version: F9 B5 B1051.6, Payload Mass: 15600 kg\n",
      "Booster Version: F9 B5 B1060.3, Payload Mass: 15600 kg\n",
      "Booster Version: F9 B5 B1049.7 , Payload Mass: 15600 kg\n"
     ]
    }
   ],
   "source": [
    "query = \"\"\"\n",
    "SELECT DISTINCT \"Booster_Version\", \"PAYLOAD_MASS__KG_\"\n",
    "FROM SPACEXTABLE\n",
    "WHERE \"PAYLOAD_MASS__KG_\" = (\n",
    "    SELECT MAX(\"PAYLOAD_MASS__KG_\")\n",
    "    FROM SPACEXTABLE\n",
    ")\n",
    "\"\"\"\n",
    "cur.execute(query)\n",
    "results = cur.fetchall()\n",
    "\n",
    "# Print each booster version with its payload mass\n",
    "for booster, payload in results:\n",
    "    print(f\"Booster Version: {booster}, Payload Mass: {payload} kg\")\n",
    "\n"
   ]
  },
  {
   "cell_type": "markdown",
   "metadata": {},
   "source": [
    "### Task 9\n",
    "\n",
    "\n",
    "##### List the records which will display the month names, succesful landing_outcomes in ground pad ,booster versions, launch_site for the months in year 2017\n",
    "**Note: SQLLite does not support monthnames. So you need to use substr(Date,6,2) for month, substr(Date,9,2) for date, substr(Date,0,5),='2017' for year.**\n"
   ]
  },
  {
   "cell_type": "code",
   "execution_count": 87,
   "metadata": {},
   "outputs": [
    {
     "name": "stdout",
     "output_type": "stream",
     "text": [
      "Month: 02, Landing Outcome: Success (ground pad), Booster Version: F9 FT B1031.1, Launch Site: LaunchSite\n",
      "Month: 05, Landing Outcome: Success (ground pad), Booster Version: F9 FT B1032.1, Launch Site: LaunchSite\n",
      "Month: 06, Landing Outcome: Success (ground pad), Booster Version: F9 FT B1035.1, Launch Site: LaunchSite\n",
      "Month: 08, Landing Outcome: Success (ground pad), Booster Version: F9 B4 B1039.1, Launch Site: LaunchSite\n",
      "Month: 09, Landing Outcome: Success (ground pad), Booster Version: F9 B4 B1040.1, Launch Site: LaunchSite\n",
      "Month: 12, Landing Outcome: Success (ground pad), Booster Version: F9 FT  B1035.2, Launch Site: LaunchSite\n"
     ]
    }
   ],
   "source": [
    "query = \"\"\"\n",
    "SELECT \n",
    "    substr(\"Date\", 6, 2) AS Month,\n",
    "    \"Landing_Outcome\",\n",
    "    \"Booster_Version\",\n",
    "    \"LaunchSite\"\n",
    "FROM SPACEXTABLE\n",
    "WHERE \"Landing_Outcome\" LIKE '%Success (ground pad)%'\n",
    "  AND substr(\"Date\", 1, 4) = '2017'\n",
    "\"\"\"\n",
    "cur.execute(query)\n",
    "records = cur.fetchall()\n",
    "\n",
    "# Print each matching record\n",
    "for r in records:\n",
    "    print(f\"Month: {r[0]}, Landing Outcome: {r[1]}, Booster Version: {r[2]}, Launch Site: {r[3]}\")\n"
   ]
  },
  {
   "cell_type": "markdown",
   "metadata": {},
   "source": [
    "### Task 10\n",
    "\n",
    "\n",
    "\n",
    "\n",
    "##### Rank the count of landing outcomes (such as Failure (drone ship) or Success (ground pad)) between the date 2010-06-04 and 2017-03-20, in descending order\n"
   ]
  },
  {
   "cell_type": "code",
   "execution_count": 88,
   "metadata": {},
   "outputs": [
    {
     "name": "stdout",
     "output_type": "stream",
     "text": [
      "No attempt: 10\n",
      "Success (drone ship): 5\n",
      "Failure (drone ship): 5\n",
      "Success (ground pad): 3\n",
      "Controlled (ocean): 3\n",
      "Uncontrolled (ocean): 2\n",
      "Failure (parachute): 2\n",
      "Precluded (drone ship): 1\n"
     ]
    }
   ],
   "source": [
    "query = \"\"\"\n",
    "SELECT \"Landing_Outcome\", COUNT(*) AS OutcomeCount\n",
    "FROM SPACEXTABLE\n",
    "WHERE \"Date\" BETWEEN '2010-06-04' AND '2017-03-20'\n",
    "GROUP BY \"Landing_Outcome\"\n",
    "ORDER BY OutcomeCount DESC\n",
    "\"\"\"\n",
    "cur.execute(query)\n",
    "results = cur.fetchall()\n",
    "\n",
    "# Print each landing outcome with its count\n",
    "for outcome, count in results:\n",
    "    print(f\"{outcome}: {count}\")\n",
    "\n"
   ]
  },
  {
   "cell_type": "markdown",
   "metadata": {},
   "source": [
    "### Reference Links\n",
    "\n",
    "* <a href =\"https://cf-courses-data.s3.us.cloud-object-storage.appdomain.cloud/IBMDeveloperSkillsNetwork-DB0201EN-SkillsNetwork/labs/Module%203/LAB-String_Patterns_Sorting_Grouping.md.html\">Hands-on Lab : String Patterns, Sorting and Grouping</a>  \n",
    "\n",
    "*  <a  href=\"https://cf-courses-data.s3.us.cloud-object-storage.appdomain.cloud/IBMDeveloperSkillsNetwork-DB0201EN-SkillsNetwork/labs/Labs_Coursera_V5/labs/Lab%20-%20Built-in%20functions%20/Hands-on_Lab__Built-in_Functions.md.html\">Hands-on Lab: Built-in functions</a>\n",
    "\n",
    "*  <a  href=\"https://cf-courses-data.s3.us.cloud-object-storage.appdomain.cloud/IBMDeveloperSkillsNetwork-DB0201EN-SkillsNetwork/labs/Labs_Coursera_V5/labs/Lab%20-%20Sub-queries%20and%20Nested%20SELECTs%20/instructional-labs.md.html\">Hands-on Lab : Sub-queries and Nested SELECT Statements</a>\n",
    "\n",
    "*   <a href=\"https://cf-courses-data.s3.us.cloud-object-storage.appdomain.cloud/IBMDeveloperSkillsNetwork-DB0201EN-SkillsNetwork/labs/Module%205/DB0201EN-Week3-1-3-SQLmagic.ipynb\">Hands-on Tutorial: Accessing Databases with SQL magic</a>\n",
    "\n",
    "*  <a href= \"https://cf-courses-data.s3.us.cloud-object-storage.appdomain.cloud/IBMDeveloperSkillsNetwork-DB0201EN-SkillsNetwork/labs/Module%205/DB0201EN-Week3-1-4-Analyzing.ipynb\">Hands-on Lab: Analyzing a real World Data Set</a>\n"
   ]
  },
  {
   "cell_type": "markdown",
   "metadata": {},
   "source": [
    "## Author(s)\n",
    "\n",
    "<h4> Lakshmi Holla </h4>\n"
   ]
  },
  {
   "cell_type": "markdown",
   "metadata": {},
   "source": [
    "## Other Contributors\n",
    "\n",
    "<h4> Rav Ahuja </h4>\n"
   ]
  },
  {
   "cell_type": "markdown",
   "metadata": {},
   "source": [
    "<!--## Change log\n",
    "| Date | Version | Changed by | Change Description |\n",
    "|------|--------|--------|---------|\n",
    "| 2021-07-09 | 0.2 |Lakshmi Holla | Changes made in magic sql|\n",
    "| 2021-05-20 | 0.1 |Lakshmi Holla | Created Initial Version |\n",
    "--!>\n"
   ]
  },
  {
   "cell_type": "markdown",
   "metadata": {},
   "source": [
    "## <h3 align=\"center\"> © IBM Corporation 2021. All rights reserved. <h3/>\n"
   ]
  }
 ],
 "metadata": {
  "kernelspec": {
   "display_name": "Python 3 (ipykernel)",
   "language": "python",
   "name": "python3"
  },
  "language_info": {
   "codemirror_mode": {
    "name": "ipython",
    "version": 3
   },
   "file_extension": ".py",
   "mimetype": "text/x-python",
   "name": "python",
   "nbconvert_exporter": "python",
   "pygments_lexer": "ipython3",
   "version": "3.12.8"
  },
  "prev_pub_hash": "f4e9d52e6f1d349bc812fc948cc3020934b9f83d28cd068dd22a39062f97e6c0"
 },
 "nbformat": 4,
 "nbformat_minor": 4
}
